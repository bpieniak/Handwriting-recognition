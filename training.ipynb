{
 "cells": [
  {
   "cell_type": "code",
   "execution_count": 6,
   "metadata": {},
   "outputs": [],
   "source": [
    "import tensorflow as tf\n",
    "from tensorflow import keras\n",
    "\n",
    "import numpy as np\n",
    "import matplotlib.pyplot as plt\n",
    "import pandas as pd"
   ]
  },
  {
   "cell_type": "markdown",
   "metadata": {},
   "source": [
    "### A_Z Handwritten dataset"
   ]
  },
  {
   "cell_type": "code",
   "execution_count": 7,
   "metadata": {},
   "outputs": [],
   "source": [
    "#dataset https://www.kaggle.com/sachinpatel21/az-handwritten-alphabets-in-csv-format\n",
    "data_letters = pd.read_csv('.//Data//A_Z Handwritten Data.csv').astype('int32')"
   ]
  },
  {
   "cell_type": "code",
   "execution_count": 8,
   "metadata": {},
   "outputs": [],
   "source": [
    "data_letters.rename(columns={'0':'label'}, inplace=True)"
   ]
  },
  {
   "cell_type": "code",
   "execution_count": 9,
   "metadata": {},
   "outputs": [],
   "source": [
    "X_letters_full = data_letters.drop('label', axis=1).to_numpy()\n",
    "y_letters_full = data_letters['label'].to_numpy()"
   ]
  },
  {
   "cell_type": "code",
   "execution_count": 10,
   "metadata": {},
   "outputs": [],
   "source": [
    "X_letters_full = X_letters_full.reshape(X_letters_full.shape[0],28,28)"
   ]
  },
  {
   "cell_type": "code",
   "execution_count": 11,
   "metadata": {},
   "outputs": [
    {
     "name": "stdout",
     "output_type": "stream",
     "text": [
      "0\n"
     ]
    },
    {
     "data": {
      "image/png": "[encoded data removed]",
      "text/plain": [
       "<Figure size 432x288 with 1 Axes>"
      ]
     },
     "metadata": {
      "needs_background": "light"
     },
     "output_type": "display_data"
    }
   ],
   "source": [
    "print(y_letters_full[3001])\n",
    "plt.imshow(X_letters_full[3001], cmap='gray')\n",
    "plt.show()"
   ]
  },
  {
   "cell_type": "markdown",
   "metadata": {},
   "source": [
    "### Mnist dataset"
   ]
  },
  {
   "cell_type": "code",
   "execution_count": 12,
   "metadata": {},
   "outputs": [],
   "source": [
    "(X_mnist_train, y_mnist_train), (X_mnist_test, y_mnist_test) = keras.datasets.mnist.load_data(path=\"mnist.npz\")"
   ]
  },
  {
   "cell_type": "code",
   "execution_count": 13,
   "metadata": {},
   "outputs": [],
   "source": [
    "X_mnist_full = np.concatenate((X_mnist_train, X_mnist_test))\n",
    "y_mnist_full = np.concatenate((y_mnist_train, y_mnist_test))"
   ]
  },
  {
   "cell_type": "code",
   "execution_count": 14,
   "metadata": {},
   "outputs": [
    {
     "data": {
      "text/plain": [
       "(10,)"
      ]
     },
     "execution_count": 14,
     "metadata": {},
     "output_type": "execute_result"
    }
   ],
   "source": [
    "np.unique(y_mnist_full).shape"
   ]
  },
  {
   "cell_type": "code",
   "execution_count": 15,
   "metadata": {},
   "outputs": [
    {
     "name": "stdout",
     "output_type": "stream",
     "text": [
      "9\n"
     ]
    },
    {
     "data": {
      "image/png": "[encoded data removed]",
      "text/plain": [
       "<Figure size 432x288 with 1 Axes>"
      ]
     },
     "metadata": {
      "needs_background": "light"
     },
     "output_type": "display_data"
    }
   ],
   "source": [
    "print(y_mnist_full[3000])\n",
    "plt.imshow(X_mnist_full[3000], cmap='gray')\n",
    "plt.show()"
   ]
  },
  {
   "cell_type": "markdown",
   "metadata": {},
   "source": [
    "### Full handwritten letters + numbers data\n",
    "\n",
    "y values: \n",
    "- 0-9 - numbers 0-9\n",
    "- 10-35 - letters A-Z"
   ]
  },
  {
   "cell_type": "code",
   "execution_count": 16,
   "metadata": {},
   "outputs": [
    {
     "name": "stdout",
     "output_type": "stream",
     "text": [
      "[0 1 2 3 4 5 6 7 8 9]\n",
      "[10 11 12 13 14 15 16 17 18 19 20 21 22 23 24 25 26 27 28 29 30 31 32 33\n",
      " 34 35]\n"
     ]
    }
   ],
   "source": [
    "y_letters_full = y_letters_full+10\n",
    "\n",
    "print(np.unique(y_mnist_full))\n",
    "print(np.unique(y_letters_full))"
   ]
  },
  {
   "cell_type": "code",
   "execution_count": 17,
   "metadata": {},
   "outputs": [],
   "source": [
    "X_data_full = np.concatenate((X_mnist_full, X_letters_full))\n",
    "y_data_full = np.concatenate((y_mnist_full, y_letters_full))"
   ]
  },
  {
   "cell_type": "code",
   "execution_count": 18,
   "metadata": {},
   "outputs": [
    {
     "data": {
      "text/plain": [
       "(36,)"
      ]
     },
     "execution_count": 18,
     "metadata": {},
     "output_type": "execute_result"
    }
   ],
   "source": [
    "np.unique(y_data_full).shape"
   ]
  },
  {
   "cell_type": "code",
   "execution_count": 19,
   "metadata": {},
   "outputs": [],
   "source": [
    "permutation = np.random.permutation(X_data_full.shape[0])\n",
    "\n",
    "X_data_full = X_data_full[permutation]\n",
    "y_data_full = y_data_full[permutation]"
   ]
  },
  {
   "cell_type": "code",
   "execution_count": 20,
   "metadata": {},
   "outputs": [],
   "source": [
    "X_data_full = X_data_full / 255.0"
   ]
  },
  {
   "cell_type": "code",
   "execution_count": 21,
   "metadata": {},
   "outputs": [
    {
     "data": {
      "image/png": "[encoded data removed]",
      "text/plain": [
       "<Figure size 432x288 with 1 Axes>"
      ]
     },
     "metadata": {
      "needs_background": "light"
     },
     "output_type": "display_data"
    }
   ],
   "source": [
    "import string\n",
    "\n",
    "unique_values, frequency_count = np.unique(y_data_full, return_counts=True)\n",
    "label = [\"%d\" %i for i in range(0,10)] + list(string.ascii_uppercase)\n",
    "plt.bar(label, frequency_count)\n",
    "plt.show()"
   ]
  },
  {
   "cell_type": "markdown",
   "metadata": {},
   "source": [
    "### Model training"
   ]
  },
  {
   "cell_type": "markdown",
   "metadata": {},
   "source": [
    "- train set 60%\n",
    "- validation set 20%\n",
    "- test set 20%"
   ]
  },
  {
   "cell_type": "code",
   "execution_count": 22,
   "metadata": {},
   "outputs": [],
   "source": [
    "from sklearn.model_selection import train_test_split\n",
    "\n",
    "X_train, X_test, y_train, y_test = train_test_split(X_data_full, y_data_full, test_size=0.2)\n",
    "X_train, X_valid, y_train, y_valid = train_test_split(X_train, y_train, test_size=0.25)"
   ]
  },
  {
   "cell_type": "code",
   "execution_count": 23,
   "metadata": {},
   "outputs": [
    {
     "data": {
      "text/plain": [
       "(36,)"
      ]
     },
     "execution_count": 23,
     "metadata": {},
     "output_type": "execute_result"
    }
   ],
   "source": [
    "np.unique(y_train).shape"
   ]
  },
  {
   "cell_type": "code",
   "execution_count": 24,
   "metadata": {},
   "outputs": [
    {
     "name": "stdout",
     "output_type": "stream",
     "text": [
      "(265470, 28, 28)\n",
      "(88490, 28, 28)\n",
      "(88490, 28, 28)\n"
     ]
    }
   ],
   "source": [
    "print(X_train.shape)\n",
    "print(X_test.shape)\n",
    "print(X_valid.shape)"
   ]
  },
  {
   "cell_type": "code",
   "execution_count": 25,
   "metadata": {},
   "outputs": [
    {
     "data": {
      "text/plain": [
       "array([ 5, 27, 13, ..., 24,  0, 13], dtype=int32)"
      ]
     },
     "execution_count": 25,
     "metadata": {},
     "output_type": "execute_result"
    }
   ],
   "source": [
    "y_train"
   ]
  },
  {
   "cell_type": "code",
   "execution_count": 26,
   "metadata": {},
   "outputs": [],
   "source": [
    "X_train = X_train.reshape(X_train.shape[0], 28, 28, 1).astype('float32')\n",
    "X_test = X_test.reshape(X_test.shape[0], 28, 28, 1).astype('float32')\n",
    "X_valid = X_valid.reshape(X_valid.shape[0], 28, 28, 1).astype('float32')\n",
    "\n",
    "y_train_cat = keras.utils.to_categorical(y_train)\n",
    "y_test_cat = keras.utils.to_categorical(y_test)\n",
    "y_valid_cat = keras.utils.to_categorical(y_valid)"
   ]
  },
  {
   "cell_type": "code",
   "execution_count": 27,
   "metadata": {},
   "outputs": [
    {
     "data": {
      "text/plain": [
       "36"
      ]
     },
     "execution_count": 27,
     "metadata": {},
     "output_type": "execute_result"
    }
   ],
   "source": [
    "y_train_cat.shape[1]"
   ]
  },
  {
   "cell_type": "code",
   "execution_count": 31,
   "metadata": {},
   "outputs": [],
   "source": [
    "# model = keras.models.Sequential([\n",
    "#     keras.layers.Flatten(input_shape=X_train.shape[1:]),\n",
    "#     keras.layers.Dense(300, activation='relu'),\n",
    "#     keras.layers.Dense(300, activation='relu'),\n",
    "#     keras.layers.Dense(np.unique(y_data_full).size, activation='softmax')\n",
    "# ])\n",
    "\n",
    "model = keras.models.Sequential([\n",
    "    keras.layers.Conv2D(64, 7, activation='relu', padding='same', input_shape=X_train.shape[1:]),\n",
    "    keras.layers.MaxPool2D(2),\n",
    "    keras.layers.Conv2D(128, 3, activation='relu', padding='same'),\n",
    "    keras.layers.Conv2D(128, 3, activation='relu', padding='same'),\n",
    "    keras.layers.MaxPool2D(2),\n",
    "    keras.layers.Conv2D(128, 3, activation='relu', padding='same'),\n",
    "    keras.layers.Conv2D(128, 3, activation='relu', padding='same'),\n",
    "    keras.layers.MaxPool2D(2),\n",
    "    keras.layers.Flatten(),\n",
    "    keras.layers.Dense(128, activation='relu'),\n",
    "    keras.layers.Dropout(0.5),\n",
    "    keras.layers.Dense(64, activation='relu'),\n",
    "    keras.layers.Dropout(0.5),\n",
    "    keras.layers.Dense(y_train_cat.shape[1], activation='softmax')\n",
    "])"
   ]
  },
  {
   "cell_type": "code",
   "execution_count": 32,
   "metadata": {},
   "outputs": [],
   "source": [
    "model.compile(loss='categorical_crossentropy', optimizer='adam', metrics=['accuracy'])"
   ]
  },
  {
   "cell_type": "code",
   "execution_count": 33,
   "metadata": {},
   "outputs": [],
   "source": [
    "callbacks = [keras.callbacks.EarlyStopping(patience=10)]"
   ]
  },
  {
   "cell_type": "code",
   "execution_count": null,
   "metadata": {},
   "outputs": [
    {
     "name": "stdout",
     "output_type": "stream",
     "text": [
      "Epoch 1/100\n",
      "8296/8296 [==============================] - 57s 7ms/step - loss: 0.5522 - accuracy: 0.8477 - val_loss: 0.1634 - val_accuracy: 0.9606\n",
      "Epoch 2/100\n",
      "8296/8296 [==============================] - 48s 6ms/step - loss: 0.2414 - accuracy: 0.9392 - val_loss: 0.1130 - val_accuracy: 0.9723\n",
      "Epoch 3/100\n",
      "8296/8296 [==============================] - 48s 6ms/step - loss: 0.1996 - accuracy: 0.9508 - val_loss: 0.1116 - val_accuracy: 0.9732\n",
      "Epoch 4/100\n",
      "8296/8296 [==============================] - 48s 6ms/step - loss: 0.1797 - accuracy: 0.9564 - val_loss: 0.1136 - val_accuracy: 0.9742\n",
      "Epoch 5/100\n",
      "8296/8296 [==============================] - 48s 6ms/step - loss: 0.1695 - accuracy: 0.9591 - val_loss: 0.1264 - val_accuracy: 0.9725\n",
      "Epoch 6/100\n",
      "8296/8296 [==============================] - 48s 6ms/step - loss: 0.1655 - accuracy: 0.9603 - val_loss: 0.1153 - val_accuracy: 0.9743\n",
      "Epoch 7/100\n",
      "8296/8296 [==============================] - 48s 6ms/step - loss: 0.1610 - accuracy: 0.9614 - val_loss: 0.1091 - val_accuracy: 0.9763\n",
      "Epoch 8/100\n",
      "8296/8296 [==============================] - 48s 6ms/step - loss: 0.1599 - accuracy: 0.9618 - val_loss: 0.1130 - val_accuracy: 0.9750\n",
      "Epoch 9/100\n",
      "8296/8296 [==============================] - 48s 6ms/step - loss: 0.1576 - accuracy: 0.9624 - val_loss: 0.1149 - val_accuracy: 0.9738\n",
      "Epoch 10/100\n",
      "8296/8296 [==============================] - 48s 6ms/step - loss: 0.1568 - accuracy: 0.9624 - val_loss: 0.1148 - val_accuracy: 0.9758\n",
      "Epoch 11/100\n",
      "8296/8296 [==============================] - 48s 6ms/step - loss: 0.1539 - accuracy: 0.9631 - val_loss: 0.1037 - val_accuracy: 0.9775\n",
      "Epoch 12/100\n",
      "8296/8296 [==============================] - 49s 6ms/step - loss: 0.1537 - accuracy: 0.9635 - val_loss: 0.1135 - val_accuracy: 0.9767\n",
      "Epoch 13/100\n",
      "8296/8296 [==============================] - 48s 6ms/step - loss: 0.1521 - accuracy: 0.9638 - val_loss: 0.1195 - val_accuracy: 0.9756\n",
      "Epoch 14/100\n",
      "8296/8296 [==============================] - 48s 6ms/step - loss: 0.1545 - accuracy: 0.9636 - val_loss: 0.1336 - val_accuracy: 0.9718\n",
      "Epoch 15/100\n",
      "8296/8296 [==============================] - 47s 6ms/step - loss: 0.1555 - accuracy: 0.9640 - val_loss: 0.1133 - val_accuracy: 0.9773\n",
      "Epoch 16/100\n",
      "8296/8296 [==============================] - 48s 6ms/step - loss: 0.1551 - accuracy: 0.9636 - val_loss: 0.1179 - val_accuracy: 0.9749\n",
      "Epoch 17/100\n",
      "8296/8296 [==============================] - 48s 6ms/step - loss: 0.1482 - accuracy: 0.9656 - val_loss: 0.1304 - val_accuracy: 0.9764\n",
      "Epoch 18/100\n",
      "8296/8296 [==============================] - 47s 6ms/step - loss: 0.1525 - accuracy: 0.9647 - val_loss: 0.1208 - val_accuracy: 0.9780\n",
      "Epoch 19/100\n",
      "8296/8296 [==============================] - 48s 6ms/step - loss: 0.1527 - accuracy: 0.9645 - val_loss: 0.1142 - val_accuracy: 0.9773\n",
      "Epoch 20/100\n",
      "8296/8296 [==============================] - 47s 6ms/step - loss: 0.1526 - accuracy: 0.9648 - val_loss: 0.1342 - val_accuracy: 0.9737\n",
      "Epoch 21/100\n",
      "7911/8296 [===========================>..] - ETA: 1s - loss: 0.1505 - accuracy: 0.9652"
     ]
    }
   ],
   "source": [
    "model.fit(X_train, y_train_cat, epochs=100, batch_size=32,\n",
    "                   validation_data=(X_valid, y_valid_cat),\n",
    "                   callbacks=callbacks)"
   ]
  },
  {
   "cell_type": "code",
   "execution_count": null,
   "metadata": {},
   "outputs": [],
   "source": [
    "model.evaluate(X_test, y_test)"
   ]
  },
  {
   "cell_type": "code",
   "execution_count": null,
   "metadata": {},
   "outputs": [],
   "source": [
    "model.save('.//Models//mnist_alphabet')"
   ]
  }
 ],
 "metadata": {
  "environment": {
   "name": "pytorch-gpu.1-4.m55",
   "type": "gcloud",
   "uri": "gcr.io/deeplearning-platform-release/pytorch-gpu.1-4:m55"
  },
  "kernelspec": {
   "display_name": "Python 3",
   "language": "python",
   "name": "python3"
  },
  "language_info": {
   "codemirror_mode": {
    "name": "ipython",
    "version": 3
   },
   "file_extension": ".py",
   "mimetype": "text/x-python",
   "name": "python",
   "nbconvert_exporter": "python",
   "pygments_lexer": "ipython3",
   "version": "3.7.8"
  }
 },
 "nbformat": 4,
 "nbformat_minor": 4
}
