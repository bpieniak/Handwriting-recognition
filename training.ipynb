{
 "cells": [
  {
   "cell_type": "code",
   "execution_count": 1,
   "metadata": {},
   "outputs": [],
   "source": [
    "import tensorflow as tf\n",
    "from tensorflow import keras\n",
    "\n",
    "import numpy as np\n",
    "import matplotlib.pyplot as plt\n",
    "import pandas as pd"
   ]
  },
  {
   "cell_type": "code",
   "execution_count": 2,
   "metadata": {},
   "outputs": [],
   "source": [
    "#dataset https://www.kaggle.com/sachinpatel21/az-handwritten-alphabets-in-csv-format\n",
    "data = pd.read_csv('.//Data//A_Z Handwritten Data.csv').astype('float32')"
   ]
  },
  {
   "cell_type": "code",
   "execution_count": 3,
   "metadata": {},
   "outputs": [],
   "source": [
    "data.rename(columns={'0':'label'}, inplace=True)"
   ]
  },
  {
   "cell_type": "code",
   "execution_count": 4,
   "metadata": {},
   "outputs": [],
   "source": [
    "X_full = data.drop('label',axis = 1)\n",
    "y_full = data['label']"
   ]
  },
  {
   "cell_type": "code",
   "execution_count": 5,
   "metadata": {},
   "outputs": [
    {
     "name": "stdout",
     "output_type": "stream",
     "text": [
      "2.0\n"
     ]
    },
    {
     "data": {
      "image/png": "[encoded data removed]",
      "text/plain": [
       "<Figure size 432x288 with 1 Axes>"
      ]
     },
     "metadata": {
      "needs_background": "light"
     },
     "output_type": "display_data"
    }
   ],
   "source": [
    "print(y_full[30000])\n",
    "plt.imshow(X_full.iloc[30000].values.reshape(28,28), cmap='gray')\n",
    "plt.show()"
   ]
  },
  {
   "cell_type": "code",
   "execution_count": 6,
   "metadata": {},
   "outputs": [
    {
     "data": {
      "image/png": "[encoded data removed]",
      "text/plain": [
       "<Figure size 432x288 with 1 Axes>"
      ]
     },
     "metadata": {
      "needs_background": "light"
     },
     "output_type": "display_data"
    }
   ],
   "source": [
    "import string\n",
    "\n",
    "letter_count = data.groupby('label').size()\n",
    "plt.bar(list(string.ascii_uppercase), letter_count)\n",
    "plt.show()"
   ]
  },
  {
   "cell_type": "code",
   "execution_count": 7,
   "metadata": {},
   "outputs": [],
   "source": [
    "X_full = X_full / 255.0"
   ]
  },
  {
   "cell_type": "code",
   "execution_count": 8,
   "metadata": {},
   "outputs": [],
   "source": [
    "from sklearn.model_selection import train_test_split\n",
    "\n",
    "X_train, X_test, y_train, y_test = train_test_split(X_full, y_full, test_size=0.2)\n",
    "\n",
    "X_train, X_valid, y_train, y_valid = train_test_split(X_train, y_train, test_size=0.25)"
   ]
  },
  {
   "cell_type": "code",
   "execution_count": 9,
   "metadata": {},
   "outputs": [
    {
     "name": "stdout",
     "output_type": "stream",
     "text": [
      "(223470, 784)\n",
      "(74490, 784)\n",
      "(74490, 784)\n"
     ]
    }
   ],
   "source": [
    "print(X_train.shape)\n",
    "print(X_test.shape)\n",
    "print(X_valid.shape)"
   ]
  },
  {
   "cell_type": "code",
   "execution_count": 10,
   "metadata": {},
   "outputs": [],
   "source": [
    "X_train = X_train.to_numpy().reshape(X_train.shape[0], 28, 28, 1).astype('float32')\n",
    "X_test = X_test.to_numpy().reshape(X_test.shape[0], 28, 28, 1).astype('float32')\n",
    "X_valid = X_valid.to_numpy().reshape(X_test.shape[0], 28, 28, 1).astype('float32')\n",
    "\n",
    "y_train = keras.utils.to_categorical(y_train)\n",
    "y_test = keras.utils.to_categorical(y_test)\n",
    "y_valid = keras.utils.to_categorical(y_valid)"
   ]
  },
  {
   "cell_type": "code",
   "execution_count": 11,
   "metadata": {},
   "outputs": [
    {
     "data": {
      "text/plain": [
       "(28, 28, 1)"
      ]
     },
     "execution_count": 11,
     "metadata": {},
     "output_type": "execute_result"
    }
   ],
   "source": [
    "X_train.shape[1:]"
   ]
  },
  {
   "cell_type": "code",
   "execution_count": 12,
   "metadata": {},
   "outputs": [],
   "source": [
    "model = keras.models.Sequential([\n",
    "    keras.layers.Flatten(input_shape=X_train.shape[1:]),\n",
    "    keras.layers.Dense(300, activation='relu'),\n",
    "    keras.layers.Dense(300, activation='relu'),\n",
    "    keras.layers.Dense(y_full.unique().size, activation='softmax')\n",
    "])"
   ]
  },
  {
   "cell_type": "code",
   "execution_count": 16,
   "metadata": {},
   "outputs": [],
   "source": [
    "model.compile(loss='categorical_crossentropy', optimizer='adam', metrics=['accuracy'])"
   ]
  },
  {
   "cell_type": "code",
   "execution_count": 14,
   "metadata": {},
   "outputs": [
    {
     "data": {
      "text/plain": [
       "(223470, 26)"
      ]
     },
     "execution_count": 14,
     "metadata": {},
     "output_type": "execute_result"
    }
   ],
   "source": [
    "y_train.shape"
   ]
  },
  {
   "cell_type": "code",
   "execution_count": 17,
   "metadata": {},
   "outputs": [
    {
     "name": "stdout",
     "output_type": "stream",
     "text": [
      "Epoch 1/100\n",
      "6984/6984 [==============================] - 20s 3ms/step - loss: 0.2219 - accuracy: 0.9363 - val_loss: 0.1153 - val_accuracy: 0.9656\n",
      "Epoch 2/100\n",
      "6984/6984 [==============================] - 19s 3ms/step - loss: 0.0977 - accuracy: 0.9711 - val_loss: 0.0926 - val_accuracy: 0.9734\n",
      "Epoch 3/100\n",
      "6984/6984 [==============================] - 19s 3ms/step - loss: 0.0725 - accuracy: 0.9783 - val_loss: 0.0839 - val_accuracy: 0.9759\n",
      "Epoch 4/100\n",
      "6984/6984 [==============================] - 20s 3ms/step - loss: 0.0583 - accuracy: 0.9820 - val_loss: 0.0771 - val_accuracy: 0.9794\n",
      "Epoch 5/100\n",
      "6984/6984 [==============================] - 19s 3ms/step - loss: 0.0487 - accuracy: 0.9848 - val_loss: 0.0823 - val_accuracy: 0.9788\n",
      "Epoch 6/100\n",
      "6984/6984 [==============================] - 20s 3ms/step - loss: 0.0434 - accuracy: 0.9865 - val_loss: 0.0854 - val_accuracy: 0.9801\n",
      "Epoch 7/100\n",
      "6984/6984 [==============================] - 20s 3ms/step - loss: 0.0376 - accuracy: 0.9884 - val_loss: 0.0953 - val_accuracy: 0.9794\n",
      "Epoch 8/100\n",
      "6984/6984 [==============================] - 19s 3ms/step - loss: 0.0366 - accuracy: 0.9891 - val_loss: 0.0839 - val_accuracy: 0.9825\n",
      "Epoch 9/100\n",
      "6984/6984 [==============================] - 19s 3ms/step - loss: 0.0335 - accuracy: 0.9903 - val_loss: 0.0974 - val_accuracy: 0.9811\n",
      "Epoch 10/100\n",
      "6984/6984 [==============================] - 19s 3ms/step - loss: 0.0324 - accuracy: 0.9907 - val_loss: 0.1061 - val_accuracy: 0.9812\n",
      "Epoch 11/100\n",
      "6984/6984 [==============================] - 19s 3ms/step - loss: 0.0312 - accuracy: 0.9911 - val_loss: 0.0987 - val_accuracy: 0.9836\n",
      "Epoch 12/100\n",
      "6984/6984 [==============================] - 19s 3ms/step - loss: 0.0294 - accuracy: 0.9917 - val_loss: 0.1151 - val_accuracy: 0.9822\n",
      "Epoch 13/100\n",
      "6984/6984 [==============================] - 19s 3ms/step - loss: 0.0290 - accuracy: 0.9923 - val_loss: 0.1090 - val_accuracy: 0.9848\n",
      "Epoch 14/100\n",
      "6984/6984 [==============================] - 19s 3ms/step - loss: 0.0285 - accuracy: 0.9928 - val_loss: 0.1071 - val_accuracy: 0.9852\n"
     ]
    }
   ],
   "source": [
    "history = model.fit(X_train, y_train, epochs=100, batch_size=32,\n",
    "                   validation_data=(X_valid, y_valid),\n",
    "                   callbacks=[keras.callbacks.EarlyStopping(patience=10)])"
   ]
  },
  {
   "cell_type": "code",
   "execution_count": 18,
   "metadata": {},
   "outputs": [
    {
     "name": "stdout",
     "output_type": "stream",
     "text": [
      "2328/2328 [==============================] - 4s 2ms/step - loss: 0.1129 - accuracy: 0.9847\n"
     ]
    },
    {
     "data": {
      "text/plain": [
       "[0.11294176429510117, 0.9847362041473389]"
      ]
     },
     "execution_count": 18,
     "metadata": {},
     "output_type": "execute_result"
    }
   ],
   "source": [
    "model.evaluate(X_test, y_test)"
   ]
  },
  {
   "cell_type": "code",
   "execution_count": 19,
   "metadata": {},
   "outputs": [
    {
     "name": "stdout",
     "output_type": "stream",
     "text": [
      "WARNING:tensorflow:From /opt/conda/lib/python3.7/site-packages/tensorflow/python/training/tracking/tracking.py:111: Layer.updates (from tensorflow.python.keras.engine.base_layer) is deprecated and will be removed in a future version.\n",
      "Instructions for updating:\n",
      "This property should not be used in TensorFlow 2.0, as updates are applied automatically.\n",
      "INFO:tensorflow:Assets written to: .//Models//acc98/assets\n"
     ]
    }
   ],
   "source": [
    "model.save('.//Models//acc98')"
   ]
  }
 ],
 "metadata": {
  "environment": {
   "name": "pytorch-gpu.1-4.m55",
   "type": "gcloud",
   "uri": "gcr.io/deeplearning-platform-release/pytorch-gpu.1-4:m55"
  },
  "kernelspec": {
   "display_name": "Python 3",
   "language": "python",
   "name": "python3"
  },
  "language_info": {
   "codemirror_mode": {
    "name": "ipython",
    "version": 3
   },
   "file_extension": ".py",
   "mimetype": "text/x-python",
   "name": "python",
   "nbconvert_exporter": "python",
   "pygments_lexer": "ipython3",
   "version": "3.7.8"
  }
 },
 "nbformat": 4,
 "nbformat_minor": 4
}
